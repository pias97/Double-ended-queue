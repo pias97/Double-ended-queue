{
  "nbformat": 4,
  "nbformat_minor": 0,
  "metadata": {
    "colab": {
      "name": "problem_2.ipynb",
      "provenance": []
    },
    "kernelspec": {
      "name": "python3",
      "display_name": "Python 3"
    }
  },
  "cells": [
    {
      "cell_type": "code",
      "metadata": {
        "id": "JhiU5pbHs7yi"
      },
      "source": [
        "class Double_Ended_Q:\r\n",
        "    def __init__(self):\r\n",
        "        self.items = []\r\n",
        "\r\n",
        "    def isNull(self):\r\n",
        "        return self.items == []\r\n",
        "\r\n",
        "    def add_Back(self, item):\r\n",
        "        self.items.append(item)\r\n",
        "\r\n",
        "    def add_Front(self, item):\r\n",
        "        self.items.insert(0,item)\r\n",
        "\r\n",
        "    def remove_Back(self):\r\n",
        "        return self.items.pop()\r\n",
        "\r\n",
        "    def remove_Front(self):\r\n",
        "        return self.items.pop(0)\r\n",
        "\r\n",
        "    def all_Ele_print(self):\r\n",
        "        return self.items\r\n",
        "\r\n",
        "    def print_Front(self):\r\n",
        "        return self.items[0]\r\n",
        "\r\n",
        "    def print_Back(self):\r\n",
        "        return self.items[-1]"
      ],
      "execution_count": 74,
      "outputs": []
    },
    {
      "cell_type": "code",
      "metadata": {
        "id": "SZaCs-p1ymEa"
      },
      "source": [
        "obj1 = Double_Ended_Q()"
      ],
      "execution_count": 75,
      "outputs": []
    },
    {
      "cell_type": "code",
      "metadata": {
        "colab": {
          "base_uri": "https://localhost:8080/"
        },
        "id": "AuQb9OWVwqyt",
        "outputId": "9147879b-70c9-41cc-978e-d44157a35711"
      },
      "source": [
        "file = open(\"input.txt\", 'r')\r\n",
        "\r\n",
        "for line in file:\r\n",
        "    char = line[0:1]\r\n",
        "    value = line[2:]\r\n",
        "\r\n",
        "    if char == 'A':\r\n",
        "      obj1.add_Front(int(value))\r\n",
        "\r\n",
        "    elif char == 'B':\r\n",
        "      obj1.add_Back(int(value))\r\n",
        "\r\n",
        "    elif char == 'C':\r\n",
        "      if obj1.isNull():\r\n",
        "        print('No element to REMOVE in front')\r\n",
        "      else:\r\n",
        "        obj1.remove_Front()\r\n",
        "\r\n",
        "    elif char == 'D':\r\n",
        "      if obj1.isNull():\r\n",
        "        print('No element to REMOVE in back')\r\n",
        "      else:\r\n",
        "        obj1.remove_Back()\r\n",
        "\r\n",
        "    elif char == 'E':\r\n",
        "      if obj1.isNull():\r\n",
        "        print('No element to PRINT in front')\r\n",
        "      else:\r\n",
        "        val = obj1.print_Front()\r\n",
        "        print(val)\r\n",
        "\r\n",
        "    elif char == 'F':\r\n",
        "      if obj1.isNull():\r\n",
        "        print('No element to PRINT in back')\r\n",
        "      else:\r\n",
        "        val = obj1.print_Back()\r\n",
        "        print(val)\r\n",
        "    "
      ],
      "execution_count": 76,
      "outputs": [
        {
          "output_type": "stream",
          "text": [
            "No element to PRINT in front\n",
            "13\n",
            "10\n"
          ],
          "name": "stdout"
        }
      ]
    }
  ]
}